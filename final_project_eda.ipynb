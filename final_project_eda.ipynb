{
 "cells": [
  {
   "cell_type": "code",
   "execution_count": null,
   "id": "91e77ef2",
   "metadata": {},
   "outputs": [],
   "source": [
    "# final_project_eda.ipynb\n",
    "\n",
    "import pandas as pd\n",
    "\n",
    "# Load all datasets\n",
    "contract = pd.read_csv('contract.csv')\n",
    "personal = pd.read_csv('personal.csv')\n",
    "internet = pd.read_csv('internet.csv')\n",
    "phone = pd.read_csv('phone.csv')\n",
    "\n",
    "# Preview the data\n",
    "display(contract.head())\n",
    "display(personal.head())\n",
    "display(internet.head())\n",
    "display(phone.head())\n",
    "\n",
    "# Merge all datasets on 'customerID'\n",
    "df = contract.merge(personal, on='customerID', how='left') \\\n",
    "             .merge(internet, on='customerID', how='left') \\\n",
    "             .merge(phone, on='customerID', how='left')\n",
    "\n",
    "# Create target variable: churn = 1 if EndDate != 'No', else 0\n",
    "df['churn'] = df['EndDate'].apply(lambda x: 0 if x == 'No' else 1)\n",
    "\n",
    "# Check result\n",
    "display(df[['customerID', 'EndDate', 'churn']].head())\n",
    "\n",
    "# Quick data check\n",
    "print(\"Shape:\", df.shape)\n",
    "print(\"Churn Rate:\")\n",
    "display(df['churn'].value_counts(normalize=True))\n"
   ]
  },
  {
   "cell_type": "code",
   "execution_count": null,
   "id": "64f9fe00-0a21-40e5-8fee-a027b93ca5c6",
   "metadata": {},
   "outputs": [],
   "source": [
    "# Missing values\n",
    "missing_values = df.isnull().sum().sort_values(ascending=False)\n",
    "display(missing_values[missing_values > 0])\n"
   ]
  },
  {
   "cell_type": "code",
   "execution_count": null,
   "id": "b8d8d267-b987-452e-925d-48f92d60c142",
   "metadata": {},
   "outputs": [],
   "source": [
    "internet_service_cols = ['OnlineSecurity', 'OnlineBackup', 'DeviceProtection',\n",
    "                         'TechSupport', 'StreamingTV', 'StreamingMovies']\n",
    "\n",
    "df[internet_service_cols] = df[internet_service_cols].fillna('No')\n",
    "\n",
    "df['MultipleLines'] = df['MultipleLines'].fillna('No')\n",
    "df['TotalCharges'] = pd.to_numeric(df['TotalCharges'], errors='coerce')\n",
    "display(df['TotalCharges'].isna().sum())\n"
   ]
  },
  {
   "cell_type": "code",
   "execution_count": null,
   "id": "4db686d6-6530-412b-b8e6-ac70124df523",
   "metadata": {},
   "outputs": [],
   "source": [
    "df['TotalCharges'] = df['TotalCharges'].fillna(df['MonthlyCharges'])\n",
    "df['churn'] = df['EndDate'].apply(lambda x: 0 if x == 'No' else 1)\n",
    "df_clean = df.drop(columns=['customerID', 'BeginDate', 'EndDate'])\n",
    "binary_cols = ['PaperlessBilling', 'Partner', 'Dependents', 'OnlineSecurity',\n",
    "               'OnlineBackup', 'DeviceProtection', 'TechSupport',\n",
    "               'StreamingTV', 'StreamingMovies', 'MultipleLines']\n",
    "\n",
    "for col in binary_cols:\n",
    "    df_clean[col] = df_clean[col].map({'Yes': 1, 'No': 0}) \n",
    "    \n",
    "from sklearn.preprocessing import LabelEncoder\n",
    "\n",
    "categorical_cols = df_clean.select_dtypes(include='object').columns\n",
    "label_encoders = {}\n",
    "\n",
    "for col in categorical_cols:\n",
    "    le = LabelEncoder()\n",
    "    df_clean[col] = le.fit_transform(df_clean[col])\n",
    "    label_encoders[col] = le\n",
    "\n",
    "display(df_clean.head())\n"
   ]
  },
  {
   "cell_type": "code",
   "execution_count": null,
   "id": "7e63b7b6-b094-4511-9faf-5902e68009df",
   "metadata": {},
   "outputs": [],
   "source": [
    "for col in df_clean.columns:\n",
    "    print(f\"{col}: {df_clean[col].nunique()}\")\n"
   ]
  },
  {
   "cell_type": "code",
   "execution_count": null,
   "id": "e8c89ff8-1bb8-49dd-835b-40646f4c63c3",
   "metadata": {},
   "outputs": [],
   "source": [
    "df_clean.to_csv(\"cleaned_telecom_data.csv\", index=False)\n"
   ]
  },
  {
   "cell_type": "markdown",
   "id": "a44b8a9a-81b1-4647-b967-2057d9488d92",
   "metadata": {},
   "source": [
    "##  Data Cleaning Summary\n",
    "- Merged all datasets using `customerID`.\n",
    "- Replaced missing service-related values (due to customers not having internet or phone service) with `'No'`.\n",
    "- Converted `TotalCharges` from string to float and filled missing values with `MonthlyCharges`.\n",
    "- Created target column `churn`: 1 if `EndDate` is set (churned), 0 if `EndDate` is `'No'`.\n",
    "- Encoded binary features (`Yes`/`No`) to `1`/`0`.\n",
    "- Encoded categorical features like `Contract`, `InternetService`, and `PaymentMethod` using `LabelEncoder`.\n",
    "- Final dataset contains fully numeric, clean data ready for modeling.`"
   ]
  },
  {
   "cell_type": "markdown",
   "id": "97d51a37-5073-480c-8e3c-201bf233f3b9",
   "metadata": {},
   "source": [
    "##  Exploratory Data Analysis (EDA)"
   ]
  },
  {
   "cell_type": "code",
   "execution_count": null,
   "id": "e242b61d-5ebe-4feb-8405-2dc1704a9d81",
   "metadata": {},
   "outputs": [],
   "source": [
    "# 1. Churn Distribution\n",
    "import seaborn as sns\n",
    "import matplotlib.pyplot as plt\n",
    "\n",
    "sns.countplot(x='churn', data=df_clean)\n",
    "plt.title(\"Churn Distribution\")\n",
    "plt.xticks([0,1], ['Active', 'Churned'])\n",
    "plt.show()\n",
    "\n",
    "display(df_clean['churn'].value_counts(normalize=True))\n"
   ]
  },
  {
   "cell_type": "code",
   "execution_count": null,
   "id": "e5096702-7539-4b4a-af8d-541c52363f0f",
   "metadata": {},
   "outputs": [],
   "source": [
    "# 2. Churn by Contract Type\n",
    "sns.countplot(data=df_clean, x='Type', hue='churn')\n",
    "plt.title('Churn by Contract Type')\n",
    "plt.xticks([0, 1, 2], ['Month-to-month', 'One year', 'Two year'])\n",
    "plt.show()\n"
   ]
  },
  {
   "cell_type": "code",
   "execution_count": null,
   "id": "255d0a54-417e-4e0f-aec5-8c1865070874",
   "metadata": {},
   "outputs": [],
   "source": [
    "# 3. Churn by Payment Method\n",
    "sns.countplot(data=df_clean, x='PaymentMethod', hue='churn')\n",
    "plt.title('Churn by Payment Method')\n",
    "plt.xticks([0, 1, 2, 3], label_encoders['PaymentMethod'].classes_, rotation=45)\n",
    "plt.show()\n"
   ]
  },
  {
   "cell_type": "code",
   "execution_count": null,
   "id": "5ada0b0f-c3d3-4f5b-a53f-4113c390c1e8",
   "metadata": {},
   "outputs": [],
   "source": [
    "#4. Churn by Internet Service\n",
    "sns.countplot(data=df_clean, x='InternetService', hue='churn')\n",
    "plt.title('Churn by Internet Service')\n",
    "plt.xticks([0, 1, 2], label_encoders['InternetService'].classes_)\n",
    "plt.show()\n"
   ]
  },
  {
   "cell_type": "code",
   "execution_count": null,
   "id": "c7de0968-6613-4608-9ec9-17591ff3e41a",
   "metadata": {},
   "outputs": [],
   "source": [
    "#5. Monthly Charges vs. Churn\n",
    "sns.kdeplot(data=df_clean, x='MonthlyCharges', hue='churn', fill=True)\n",
    "plt.title(\"Monthly Charges vs Churn\")\n",
    "plt.show()\n"
   ]
  },
  {
   "cell_type": "code",
   "execution_count": null,
   "id": "77930402-527f-479d-9a1e-13d8e5b0d9a7",
   "metadata": {},
   "outputs": [],
   "source": [
    "#6. Churn by Senior, Partner, Dependents\n",
    "for col in ['SeniorCitizen', 'Partner', 'Dependents']:\n",
    "    sns.countplot(data=df_clean, x=col, hue='churn')\n",
    "    plt.title(f'Churn by {col}')\n",
    "    plt.show()\n"
   ]
  },
  {
   "cell_type": "code",
   "execution_count": null,
   "id": "f9db880a-f856-428a-b60a-483fb3c9c0cb",
   "metadata": {},
   "outputs": [],
   "source": [
    "# 7. Churn by Streaming, Security, TechSupport\n",
    "cols = ['OnlineSecurity', 'TechSupport', 'StreamingTV', 'StreamingMovies']\n",
    "for col in cols:\n",
    "    sns.countplot(data=df_clean, x=col, hue='churn')\n",
    "    plt.title(f'Churn by {col}')\n",
    "    plt.show()\n"
   ]
  },
  {
   "cell_type": "code",
   "execution_count": null,
   "id": "a933e097-b7c0-49fd-a277-72017bcf3656",
   "metadata": {},
   "outputs": [],
   "source": [
    "# 8. Correlation Heatmap\n",
    "plt.figure(figsize=(12, 8))\n",
    "sns.heatmap(df_clean.corr(), annot=True, fmt='.2f', cmap='coolwarm')\n",
    "plt.title(\"Correlation Matrix\")\n",
    "plt.show()\n"
   ]
  },
  {
   "cell_type": "markdown",
   "id": "e69343e3-0181-4abe-aa19-433dae3b3127",
   "metadata": {},
   "source": [
    "## Exploratory Data Analysis (EDA)\n",
    "\n",
    "### 1. Churn Distribution\n",
    "\n",
    "About 26.5% of customers have churned (label `1`), while 73.5% remain active (`0`).  \n",
    "This is a moderate class imbalance that should be considered during model evaluation.\n",
    "\n",
    "*See: Churn Distribution chart*\n",
    "\n",
    "---\n",
    "\n",
    "### 2. Churn by Contract Type\n",
    "\n",
    "Customers on month-to-month contracts show a significantly higher churn rate.  \n",
    "Customers with one-year or two-year contracts churn far less, indicating stronger loyalty or satisfaction.\n",
    "\n",
    "*See: Churn by Contract Type chart*\n",
    "\n",
    "---\n",
    "\n",
    "### 3. Churn by Payment Method\n",
    "\n",
    "Customers paying via electronic check have the highest churn rate.  \n",
    "In contrast, those using bank transfers or credit cards (automatic) exhibit significantly lower churn.  \n",
    "This suggests auto-pay methods may reduce customer turnover.\n",
    "\n",
    "*See: Churn by Payment Method chart*\n",
    "\n",
    "---\n",
    "\n",
    "### 4. Churn by Internet Service\n",
    "\n",
    "Fiber optic internet users churn more than DSL users.  \n",
    "Customers without internet service show the lowest churn, likely due to limited overall service use.\n",
    "\n",
    "*See: Churn by Internet Service chart*\n",
    "\n",
    "---\n",
    "\n",
    "### 5. Monthly Charges vs Churn\n",
    "\n",
    "Higher monthly charges (around $70–$100) correlate with higher churn.  \n",
    "Customers with lower charges are more likely to stay.\n",
    "\n",
    "*See: Monthly Charges vs Churn density plot*\n",
    "\n",
    "---\n",
    "\n",
    "### 6. Churn by Senior, Partner, Dependents\n",
    "\n",
    "Senior citizens show a higher churn rate compared to non-seniors.  \n",
    "Customers without a partner or without dependents are also more likely to churn.  \n",
    "These patterns may reflect stability associated with family or life stage.\n",
    "\n",
    "*See: Churn by SeniorCitizen, Partner, Dependents charts*\n",
    "\n",
    "---\n",
    "\n",
    "### 7. Churn by Streaming, Security, TechSupport\n",
    "\n",
    "Customers using tech support and online security services have significantly lower churn.  \n",
    "Streaming service usage (TV and movies) also correlates with lower churn, though less strongly.  \n",
    "These services may increase customer engagement and perceived value.\n",
    "\n",
    "*See: Churn by OnlineSecurity, TechSupport, StreamingTV, StreamingMovies charts*\n",
    "\n",
    "---\n",
    "\n",
    "### 8. Correlation Matrix\n",
    "\n",
    "Contract type shows the strongest negative correlation with churn (-0.40), meaning longer contracts reduce churn.  \n",
    "Other negatively correlated features include TechSupport, OnlineSecurity, and DeviceProtection.  \n",
    "MonthlyCharges has a slight positive correlation with churn, supporting earlier visual observations.\n",
    "\n",
    "*See: Correlation Heatmap*\n",
    "\n",
    "---\n",
    "\n",
    "## Key Insights for Modeling and Strategy\n",
    "\n",
    "- Month-to-month contract holders and electronic check users are at highest churn risk.\n",
    "- Long-term contracts and automatic payments (e.g., credit card, bank transfer) reduce churn.\n",
    "- Engagement with tech support, security services, and streaming features lowers churn.\n",
    "- Demographic indicators (e.g., no dependents or partner) slightly increase churn likelihood.\n",
    "- Targeted retention strategies should focus on high-risk profiles identified above.\n"
   ]
  },
  {
   "cell_type": "code",
   "execution_count": null,
   "id": "50a45b1b-5ee7-4170-a323-1bca0d3fe669",
   "metadata": {},
   "outputs": [],
   "source": [
    "for col in service_cols:\n",
    "    X_train[col] = X_train[col].fillna(0)\n",
    "    X_test[col] = X_test[col].fillna(0)\n"
   ]
  },
  {
   "cell_type": "code",
   "execution_count": null,
   "id": "0bfa08dd-baae-485d-bb94-a143eadeea65",
   "metadata": {},
   "outputs": [],
   "source": [
    "#Data is split\n",
    "X_train, X_test, y_train, y_test\n"
   ]
  },
  {
   "cell_type": "code",
   "execution_count": null,
   "id": "552e1fe8-4055-43fe-abac-4523f496a173",
   "metadata": {},
   "outputs": [],
   "source": [
    "#Baseline Modeling Cell\n",
    "from sklearn.linear_model import LogisticRegression\n",
    "from sklearn.tree import DecisionTreeClassifier\n",
    "from sklearn.ensemble import RandomForestClassifier\n",
    "from sklearn.metrics import roc_auc_score, accuracy_score\n",
    "\n",
    "def evaluate_model(model, X_train, X_test, y_train, y_test):\n",
    "    model.fit(X_train, y_train)\n",
    "    y_pred = model.predict(X_test)\n",
    "    y_proba = model.predict_proba(X_test)[:, 1]\n",
    "\n",
    "    auc = roc_auc_score(y_test, y_proba)\n",
    "    acc = accuracy_score(y_test, y_pred)\n",
    "\n",
    "    print(f\"{model.__class__.__name__}\")\n",
    "    print(f\"AUC-ROC:  {auc:.4f}\")\n",
    "    print(f\"Accuracy: {acc:.4f}\")\n",
    "    print('-' * 30)\n",
    "    return auc, acc\n",
    "\n",
    "# Initialize models\n",
    "log_reg = LogisticRegression(max_iter=1000, random_state=42)\n",
    "tree = DecisionTreeClassifier(random_state=42)\n",
    "forest = RandomForestClassifier(random_state=42)\n",
    "\n",
    "# Run evaluations\n",
    "evaluate_model(log_reg, X_train, X_test, y_train, y_test)\n",
    "evaluate_model(tree, X_train, X_test, y_train, y_test)\n",
    "evaluate_model(forest, X_train, X_test, y_train, y_test)\n"
   ]
  },
  {
   "cell_type": "markdown",
   "id": "ac5c26b0-8cca-4a92-a86c-273b6297aa0f",
   "metadata": {},
   "source": [
    "## Baseline Model Evaluation\n",
    "\n",
    "To establish a performance benchmark, three classification models were trained and evaluated using the cleaned and preprocessed dataset:\n",
    "\n",
    "- Logistic Regression\n",
    "- Decision Tree Classifier\n",
    "- Random Forest Classifier\n",
    "\n",
    "The evaluation was based on two metrics:\n",
    "- **Primary Metric:** AUC-ROC\n",
    "- **Secondary Metric:** Accuracy\n",
    "\n",
    "### Model Performance Summary\n",
    "\n",
    "| Model                  | AUC-ROC | Accuracy |\n",
    "|------------------------|---------|----------|\n",
    "| Logistic Regression    | 0.8235  | 0.7871   |\n",
    "| Decision Tree          | 0.6569  | 0.7346   |\n",
    "| Random Forest          | 0.8218  | 0.7850   |\n",
    "\n",
    "### Interpretation\n",
    "\n",
    "- **Logistic Regression** and **Random Forest** performed best with AUC-ROC values above 0.82.\n",
    "- The **Decision Tree** model underperformed, likely due to overfitting or lack of regularization.\n",
    "- Based on the AUC-ROC thresholds provided in the scoring rubric, both Logistic Regression and Random Forest currently achieve **4.5 story points**.\n",
    "\n",
    "The next step will involve tuning and experimenting with more advanced models (e.g., LightGBM, CatBoost) to aim for an AUC-ROC ≥ 0.85 for a higher score.\n"
   ]
  },
  {
   "cell_type": "code",
   "execution_count": null,
   "id": "1375eddd-ecc7-4ee9-a19b-da066f943e79",
   "metadata": {},
   "outputs": [],
   "source": [
    "from sklearn.ensemble import RandomForestClassifier\n",
    "from sklearn.model_selection import GridSearchCV\n",
    "\n",
    "# Define parameter grid\n",
    "param_grid = {\n",
    "    'n_estimators': [100, 200],\n",
    "    'max_depth': [5, 10, 15],\n",
    "    'min_samples_split': [2, 5]\n",
    "}\n",
    "\n",
    "# Set up the grid search\n",
    "grid_rf = GridSearchCV(\n",
    "    estimator=RandomForestClassifier(random_state=42),\n",
    "    param_grid=param_grid,\n",
    "    scoring='roc_auc',\n",
    "    cv=3,\n",
    "    n_jobs=-1,\n",
    "    verbose=1\n",
    ")\n",
    "\n",
    "# Fit the model\n",
    "grid_rf.fit(X_train, y_train)\n",
    "\n",
    "# Best model\n",
    "best_rf = grid_rf.best_estimator_\n",
    "\n",
    "# Evaluate\n",
    "evaluate_model(best_rf, X_train, X_test, y_train, y_test)\n"
   ]
  },
  {
   "cell_type": "markdown",
   "id": "3af12ab2-3e45-4a1d-96a8-16432e7deaf6",
   "metadata": {},
   "source": [
    "## Random Forest Model Tuning\n",
    "\n",
    "After establishing baseline performance, the Random Forest model was further optimized using `GridSearchCV` to identify the best combination of hyperparameters. The following parameters were tested:\n",
    "\n",
    "- `n_estimators`: [100, 200]\n",
    "- `max_depth`: [5, 10, 15]\n",
    "- `min_samples_split`: [2, 5]\n",
    "\n",
    "The model was evaluated using 3-fold cross-validation with AUC-ROC as the scoring metric.\n",
    "\n",
    "### Tuned Random Forest Results\n",
    "\n",
    "| Metric     | Score   |\n",
    "|------------|---------|\n",
    "| AUC-ROC    | 0.8381  |\n",
    "| Accuracy   | 78.9%   |\n",
    "\n",
    "The optimized Random Forest model demonstrated improved AUC-ROC performance compared to the baseline. According to the project scoring rubric, this places the model in the **4.5 story point tier**, just below the threshold required for 5 points (AUC-ROC ≥ 0.85).\n",
    "\n",
    "---\n",
    "\n",
    "## Next Step: Gradient Boosting Experiments\n",
    "\n",
    "To further improve model performance, gradient boosting algorithms will be evaluated:\n",
    "\n",
    "- **CatBoost**: An efficient boosting algorithm designed for categorical data and minimal preprocessing.\n",
    "- **LightGBM**: A fast, high-performance gradient boosting framework optimized for speed and memory usage.\n",
    "\n",
    "Both models will be trained using default parameters as a starting point, and their performance will be evaluated using the same metrics (AUC-ROC and accuracy).\n"
   ]
  },
  {
   "cell_type": "code",
   "execution_count": null,
   "id": "f5ddf99a-b43c-4815-90b0-2a76a1365c3d",
   "metadata": {},
   "outputs": [],
   "source": [
    "!pip install catboost\n"
   ]
  },
  {
   "cell_type": "code",
   "execution_count": 3,
   "id": "dc783dbe-f18d-4ad3-bff5-3edf79aab37d",
   "metadata": {},
   "outputs": [
    {
     "ename": "ModuleNotFoundError",
     "evalue": "No module named 'catboost'",
     "output_type": "error",
     "traceback": [
      "\u001b[1;31m---------------------------------------------------------------------------\u001b[0m",
      "\u001b[1;31mModuleNotFoundError\u001b[0m                       Traceback (most recent call last)",
      "Cell \u001b[1;32mIn[3], line 1\u001b[0m\n\u001b[1;32m----> 1\u001b[0m \u001b[38;5;28;01mfrom\u001b[39;00m \u001b[38;5;21;01mcatboost\u001b[39;00m \u001b[38;5;28;01mimport\u001b[39;00m CatBoostClassifier\n\u001b[0;32m      3\u001b[0m cat \u001b[38;5;241m=\u001b[39m CatBoostClassifier(verbose\u001b[38;5;241m=\u001b[39m\u001b[38;5;241m0\u001b[39m, random_state\u001b[38;5;241m=\u001b[39m\u001b[38;5;241m42\u001b[39m)\n\u001b[0;32m      4\u001b[0m cat\u001b[38;5;241m.\u001b[39mfit(X_train, y_train)\n",
      "\u001b[1;31mModuleNotFoundError\u001b[0m: No module named 'catboost'"
     ]
    }
   ],
   "source": [
    "from catboost import CatBoostClassifier\n",
    "\n",
    "cat = CatBoostClassifier(verbose=0, random_state=42)\n",
    "cat.fit(X_train, y_train)\n",
    "\n",
    "evaluate_model(cat, X_train, X_test, y_train, y_test)\n"
   ]
  },
  {
   "cell_type": "code",
   "execution_count": null,
   "id": "f1013306-7dc5-47e9-8082-96d2d870b124",
   "metadata": {},
   "outputs": [],
   "source": []
  }
 ],
 "metadata": {
  "kernelspec": {
   "display_name": "Python 3",
   "language": "python",
   "name": "python3"
  },
  "language_info": {
   "codemirror_mode": {
    "name": "ipython",
    "version": 3
   },
   "file_extension": ".py",
   "mimetype": "text/x-python",
   "name": "python",
   "nbconvert_exporter": "python",
   "pygments_lexer": "ipython3",
   "version": "3.10.11"
  }
 },
 "nbformat": 4,
 "nbformat_minor": 5
}
